{
 "cells": [
  {
   "cell_type": "code",
   "execution_count": 1,
   "id": "897717e0-f99d-4475-98e4-6c20942bef31",
   "metadata": {},
   "outputs": [
    {
     "name": "stdout",
     "output_type": "stream",
     "text": [
      "Requirement already satisfied: numpy in c:\\users\\aliem\\.conda\\envs\\pythonacunmedya\\lib\\site-packages (2.0.2)\n"
     ]
    }
   ],
   "source": [
    "!pip install numpy"
   ]
  },
  {
   "cell_type": "code",
   "execution_count": 2,
   "id": "12b7ab3d-ed4c-4381-a64c-d103214105d2",
   "metadata": {},
   "outputs": [
    {
     "data": {
      "text/plain": [
       "array([10, 20, 30, 40, 50])"
      ]
     },
     "execution_count": 2,
     "metadata": {},
     "output_type": "execute_result"
    }
   ],
   "source": [
    "import numpy as np\n",
    "\n",
    "n1 = np.array([10,20,30,40,50])\n",
    "n1"
   ]
  },
  {
   "cell_type": "code",
   "execution_count": 3,
   "id": "aca0fd5f-d0a8-4b48-a5a3-607ae28d3e72",
   "metadata": {},
   "outputs": [
    {
     "data": {
      "text/plain": [
       "[1, 2, 3, 4, 5]"
      ]
     },
     "execution_count": 3,
     "metadata": {},
     "output_type": "execute_result"
    }
   ],
   "source": [
    "p1 = [1,2,3,4,5]\n",
    "p1"
   ]
  },
  {
   "cell_type": "code",
   "execution_count": 4,
   "id": "d075b31c-e4b8-4efa-90e4-8d2a00aa6100",
   "metadata": {},
   "outputs": [
    {
     "data": {
      "text/plain": [
       "numpy.ndarray"
      ]
     },
     "execution_count": 4,
     "metadata": {},
     "output_type": "execute_result"
    }
   ],
   "source": [
    "type(n1)"
   ]
  },
  {
   "cell_type": "code",
   "execution_count": 5,
   "id": "c2eaa294-c27e-41b9-b576-63997c7bd6f9",
   "metadata": {},
   "outputs": [
    {
     "data": {
      "text/plain": [
       "list"
      ]
     },
     "execution_count": 5,
     "metadata": {},
     "output_type": "execute_result"
    }
   ],
   "source": [
    "type(p1)"
   ]
  },
  {
   "cell_type": "code",
   "execution_count": 6,
   "id": "7b328caa-6268-4a61-8934-0e834143fe4f",
   "metadata": {},
   "outputs": [],
   "source": [
    "# ND => N dimesional"
   ]
  },
  {
   "cell_type": "code",
   "execution_count": 7,
   "id": "f659951e-4362-49fa-8b92-29ed62adf183",
   "metadata": {},
   "outputs": [],
   "source": [
    "py_list = list(range(1_000_000))\n",
    "np_array = np.array(py_list)"
   ]
  },
  {
   "cell_type": "code",
   "execution_count": 8,
   "id": "6ac9cbea-7888-41de-8270-24c902c53cd2",
   "metadata": {},
   "outputs": [
    {
     "name": "stdout",
     "output_type": "stream",
     "text": [
      "220 ms ± 9.09 ms per loop (mean ± std. dev. of 7 runs, 10 loops each)\n"
     ]
    }
   ],
   "source": [
    "%%timeit\n",
    "[x+1 for x in py_list]"
   ]
  },
  {
   "cell_type": "code",
   "execution_count": 9,
   "id": "f0e5cb4d-f9fe-438f-a6d1-b2a085f66675",
   "metadata": {},
   "outputs": [
    {
     "name": "stdout",
     "output_type": "stream",
     "text": [
      "10.5 ms ± 302 µs per loop (mean ± std. dev. of 7 runs, 100 loops each)\n"
     ]
    }
   ],
   "source": [
    "%%timeit\n",
    "np_array + 1"
   ]
  },
  {
   "cell_type": "code",
   "execution_count": 10,
   "id": "7bd0b9a3-d619-440e-af21-8a55c4cfb949",
   "metadata": {},
   "outputs": [],
   "source": [
    "### Scalar,Vector,Matrix,Tensor\n",
    "### 1D,     2D,    3D,     ndarrayler"
   ]
  },
  {
   "cell_type": "raw",
   "id": "60fc2773-4315-4f4b-9c5b-cd8a3b151d20",
   "metadata": {},
   "source": [
    "scaler_arr = np.array(1)\n",
    "scalar_arr"
   ]
  },
  {
   "cell_type": "code",
   "execution_count": 39,
   "id": "7a00e5ba-1581-46d1-97bf-a9e829159a86",
   "metadata": {},
   "outputs": [
    {
     "data": {
      "text/plain": [
       "array([10, 20, 30])"
      ]
     },
     "execution_count": 39,
     "metadata": {},
     "output_type": "execute_result"
    }
   ],
   "source": [
    "vector_arr = np.array([10,20,30])\n",
    "vector_arr"
   ]
  },
  {
   "cell_type": "code",
   "execution_count": 40,
   "id": "b316ac23-95d2-4418-a93a-54bfae5ad4c3",
   "metadata": {},
   "outputs": [],
   "source": [
    "# Arrayın Boyutunu Öğrenmek\n",
    "# ndim -> n dimension"
   ]
  },
  {
   "cell_type": "code",
   "execution_count": 41,
   "id": "b893dd9f-0712-45aa-82aa-e5f4af53ff4b",
   "metadata": {},
   "outputs": [
    {
     "data": {
      "text/plain": [
       "array([50, 60, 70])"
      ]
     },
     "execution_count": 41,
     "metadata": {},
     "output_type": "execute_result"
    }
   ],
   "source": [
    "vector_arr2 = np.array([50,60,70])\n",
    "vector_arr2"
   ]
  },
  {
   "cell_type": "code",
   "execution_count": 42,
   "id": "f3771f64-971e-4f35-8039-7783b488870a",
   "metadata": {},
   "outputs": [
    {
     "data": {
      "text/plain": [
       "array([ 60,  80, 100])"
      ]
     },
     "execution_count": 42,
     "metadata": {},
     "output_type": "execute_result"
    }
   ],
   "source": [
    "# Arrayler arası işlemler (Vector)\n",
    "result = vector_arr + vector_arr2\n",
    "result"
   ]
  },
  {
   "cell_type": "code",
   "execution_count": 43,
   "id": "b6cabf0f-6c8d-4f09-a852-a7cd5466da40",
   "metadata": {},
   "outputs": [
    {
     "data": {
      "text/plain": [
       "(2, (2, 3))"
      ]
     },
     "execution_count": 43,
     "metadata": {},
     "output_type": "execute_result"
    }
   ],
   "source": [
    "arr3 = np.array(\n",
    "    [\n",
    "        [60,70,100],\n",
    "        [90,100,110]\n",
    "    ]\n",
    ")\n",
    "arr3.ndim , arr3.shape"
   ]
  },
  {
   "cell_type": "markdown",
   "id": "95bd6909-b27e-49e0-953e-89c8a34e746a",
   "metadata": {},
   "source": [
    "# ! (Shape) Şekil arrayler arası işlem için uyuşma sağlamalıdır.!\n"
   ]
  },
  {
   "cell_type": "code",
   "execution_count": 44,
   "id": "a0bb8829-6268-4d88-8152-d0edf4638ecc",
   "metadata": {},
   "outputs": [
    {
     "ename": "ValueError",
     "evalue": "operands could not be broadcast together with shapes (2,) (3,) ",
     "output_type": "error",
     "traceback": [
      "\u001b[1;31m---------------------------------------------------------------------------\u001b[0m",
      "\u001b[1;31mValueError\u001b[0m                                Traceback (most recent call last)",
      "Cell \u001b[1;32mIn[44], line 4\u001b[0m\n\u001b[0;32m      1\u001b[0m arr1 \u001b[38;5;241m=\u001b[39m np\u001b[38;5;241m.\u001b[39marray([\u001b[38;5;241m10\u001b[39m,\u001b[38;5;241m20\u001b[39m])\n\u001b[0;32m      2\u001b[0m arr2 \u001b[38;5;241m=\u001b[39m np\u001b[38;5;241m.\u001b[39marray([\u001b[38;5;241m30\u001b[39m,\u001b[38;5;241m40\u001b[39m,\u001b[38;5;241m50\u001b[39m])\n\u001b[1;32m----> 4\u001b[0m arr1\u001b[38;5;241m.\u001b[39mshape, arr2\u001b[38;5;241m.\u001b[39mshape, \u001b[43marr1\u001b[49m\u001b[38;5;241;43m+\u001b[39;49m\u001b[43marr2\u001b[49m\n",
      "\u001b[1;31mValueError\u001b[0m: operands could not be broadcast together with shapes (2,) (3,) "
     ]
    }
   ],
   "source": [
    "arr1 = np.array([10,20])\n",
    "arr2 = np.array([30,40,50])\n",
    "\n",
    "arr1.shape, arr2.shape, arr1+arr2"
   ]
  },
  {
   "cell_type": "code",
   "execution_count": 45,
   "id": "8119a10c-9ff0-4144-af59-bfbffd7aba51",
   "metadata": {},
   "outputs": [
    {
     "data": {
      "text/plain": [
       "(2, (2, 3))"
      ]
     },
     "execution_count": 45,
     "metadata": {},
     "output_type": "execute_result"
    }
   ],
   "source": [
    "arr4 = np.array(\n",
    "    [\n",
    "        [60,20,100],\n",
    "        [90,10,160]\n",
    "    ]\n",
    ")\n",
    "arr4.ndim , arr4.shape"
   ]
  },
  {
   "cell_type": "code",
   "execution_count": 46,
   "id": "4df27385-bcdf-4da7-9968-8adba89cd96f",
   "metadata": {},
   "outputs": [
    {
     "data": {
      "text/plain": [
       "array([[120,  90, 200],\n",
       "       [180, 110, 270]])"
      ]
     },
     "execution_count": 46,
     "metadata": {},
     "output_type": "execute_result"
    }
   ],
   "source": [
    "result = arr3 + arr4\n",
    "result"
   ]
  },
  {
   "cell_type": "code",
   "execution_count": 47,
   "id": "48b17fad-6dc2-4010-8cf8-69cf9c6ee420",
   "metadata": {},
   "outputs": [
    {
     "data": {
      "text/plain": [
       "array([[  0,  50,   0],\n",
       "       [  0,  90, -50]])"
      ]
     },
     "execution_count": 47,
     "metadata": {},
     "output_type": "execute_result"
    }
   ],
   "source": [
    "result2 = arr3 - arr4\n",
    "result2"
   ]
  },
  {
   "cell_type": "code",
   "execution_count": 48,
   "id": "05221985-ba8b-428d-a9a2-f63c4ba9ad6b",
   "metadata": {},
   "outputs": [
    {
     "data": {
      "text/plain": [
       "(2, (3, 2))"
      ]
     },
     "execution_count": 48,
     "metadata": {},
     "output_type": "execute_result"
    }
   ],
   "source": [
    "arr5 = np.array([\n",
    "    [30,40],\n",
    "    [15,20],\n",
    "    [50,40]\n",
    "])\n",
    "arr5.ndim, arr5.shape"
   ]
  },
  {
   "cell_type": "code",
   "execution_count": 49,
   "id": "9a6980fe-3e7d-47b6-af7e-e6901681a39f",
   "metadata": {},
   "outputs": [
    {
     "ename": "ValueError",
     "evalue": "operands could not be broadcast together with shapes (2,3) (3,2) ",
     "output_type": "error",
     "traceback": [
      "\u001b[1;31m---------------------------------------------------------------------------\u001b[0m",
      "\u001b[1;31mValueError\u001b[0m                                Traceback (most recent call last)",
      "Cell \u001b[1;32mIn[49], line 3\u001b[0m\n\u001b[0;32m      1\u001b[0m \u001b[38;5;66;03m# (2,3) shape ile (3,2) shape matris toplamı ?\u001b[39;00m\n\u001b[0;32m      2\u001b[0m \u001b[38;5;66;03m# Shapelerin uygun olması lazım\u001b[39;00m\n\u001b[1;32m----> 3\u001b[0m \u001b[43marr4\u001b[49m\u001b[43m \u001b[49m\u001b[38;5;241;43m+\u001b[39;49m\u001b[43m \u001b[49m\u001b[43marr5\u001b[49m \u001b[38;5;66;03m# Hata\u001b[39;00m\n",
      "\u001b[1;31mValueError\u001b[0m: operands could not be broadcast together with shapes (2,3) (3,2) "
     ]
    }
   ],
   "source": [
    "# (2,3) shape ile (3,2) shape matris toplamı ?\n",
    "# Shapelerin uygun olması lazım\n",
    "arr4 + arr5 # Hata"
   ]
  },
  {
   "cell_type": "code",
   "execution_count": 50,
   "id": "51b47954-14e8-4938-91b3-24da2cfb00ed",
   "metadata": {},
   "outputs": [
    {
     "data": {
      "text/plain": [
       "array([[ 90,  60, 115],\n",
       "       [110,  60, 200]])"
      ]
     },
     "execution_count": 50,
     "metadata": {},
     "output_type": "execute_result"
    }
   ],
   "source": [
    "# Reshape İşlemi.\n",
    "# [30,40],\n",
    "# [15,20],\n",
    "# [50,40]\n",
    "arr4 + arr5.reshape(2,3)"
   ]
  },
  {
   "cell_type": "code",
   "execution_count": 51,
   "id": "238db1b4-2172-4174-aea0-31c112da1b96",
   "metadata": {},
   "outputs": [
    {
     "data": {
      "text/plain": [
       "array([[1800,  800, 1500],\n",
       "       [1800,  500, 6400]])"
      ]
     },
     "execution_count": 51,
     "metadata": {},
     "output_type": "execute_result"
    }
   ],
   "source": [
    "arr4 * arr5.reshape(2,3)"
   ]
  },
  {
   "cell_type": "code",
   "execution_count": 52,
   "id": "1ba6ebd3-3aaa-43a9-872a-c34d504c0b9d",
   "metadata": {},
   "outputs": [
    {
     "data": {
      "text/plain": [
       "array([[ 7100,  6800],\n",
       "       [10850, 10200]])"
      ]
     },
     "execution_count": 52,
     "metadata": {},
     "output_type": "execute_result"
    }
   ],
   "source": [
    "# Dot Product -> İç çarpım, nokta çarpım\n",
    "# İlk matrisin sütun sayısı ikinci matrisin satır sayısı ile aynı olmalı.\n",
    "arr4.shape, arr5.shape\n",
    "result = np.dot(arr4,arr5)\n",
    "result"
   ]
  },
  {
   "cell_type": "raw",
   "id": "04bf9238-4df9-4683-b336-34d192d4b56e",
   "metadata": {},
   "source": [
    "arr4, arr5"
   ]
  },
  {
   "cell_type": "code",
   "execution_count": 53,
   "id": "66484b76-296d-455e-94a1-b6935787a0e1",
   "metadata": {},
   "outputs": [],
   "source": [
    "# İç çarpıma nerede ihtiyaç duyarız -> Benzerlik, Projeksiyon, Lineer Kombinasyon"
   ]
  },
  {
   "cell_type": "markdown",
   "id": "67e914c1-b98f-49f0-abfa-5e1d28ffe82e",
   "metadata": {},
   "source": [
    "### Tensor"
   ]
  },
  {
   "cell_type": "code",
   "execution_count": 57,
   "id": "78d10e34-1e3e-45a6-8a37-f1e4dbd57b01",
   "metadata": {},
   "outputs": [
    {
     "data": {
      "text/plain": [
       "(3, (4, 3, 2))"
      ]
     },
     "execution_count": 57,
     "metadata": {},
     "output_type": "execute_result"
    }
   ],
   "source": [
    "tensor1 = np.array(\n",
    "    [\n",
    "        [ [10,20],[30,40],[50,60] ],\n",
    "        [ [10,20],[30,40],[50,60] ],\n",
    "        [ [10,20],[30,40],[50,60] ],\n",
    "        [ [10,20],[30,40],[50,60] ],\n",
    "    ]\n",
    ")\n",
    "tensor1.ndim, tensor1.shape"
   ]
  },
  {
   "cell_type": "code",
   "execution_count": 58,
   "id": "58503704-32c9-4eed-8b41-ca1e7ecb71e3",
   "metadata": {},
   "outputs": [
    {
     "data": {
      "text/plain": [
       "24"
      ]
     },
     "execution_count": 58,
     "metadata": {},
     "output_type": "execute_result"
    }
   ],
   "source": [
    "tensor1.size"
   ]
  },
  {
   "cell_type": "code",
   "execution_count": 59,
   "id": "21653a1f-cb6d-4720-be31-b77780ba7607",
   "metadata": {},
   "outputs": [
    {
     "data": {
      "text/plain": [
       "array([[[ 59,  17, 197],\n",
       "        [114,  48,  15],\n",
       "        [ 96, 146, 255],\n",
       "        ...,\n",
       "        [ 55,   3,  34],\n",
       "        [ 19,  93, 160],\n",
       "        [191, 221,  37]],\n",
       "\n",
       "       [[200,  45,  88],\n",
       "        [ 90, 236, 189],\n",
       "        [139, 197,  87],\n",
       "        ...,\n",
       "        [238,  46,  68],\n",
       "        [133,  56,  12],\n",
       "        [249,  10, 196]],\n",
       "\n",
       "       [[229, 149,  84],\n",
       "        [137, 147, 109],\n",
       "        [193, 188,  76],\n",
       "        ...,\n",
       "        [ 20,  22,  32],\n",
       "        [138, 145,  94],\n",
       "        [209, 223,  77]],\n",
       "\n",
       "       ...,\n",
       "\n",
       "       [[112, 218,  66],\n",
       "        [ 28, 213, 231],\n",
       "        [102,  70,   0],\n",
       "        ...,\n",
       "        [168, 133, 112],\n",
       "        [ 45,  40, 187],\n",
       "        [226,  34, 245]],\n",
       "\n",
       "       [[215,  43, 176],\n",
       "        [ 89, 167, 158],\n",
       "        [182, 118, 225],\n",
       "        ...,\n",
       "        [231, 146, 252],\n",
       "        [204, 179, 230],\n",
       "        [134, 180, 119]],\n",
       "\n",
       "       [[ 99, 164, 175],\n",
       "        [ 64, 248, 192],\n",
       "        [ 56, 218,   0],\n",
       "        ...,\n",
       "        [171, 231, 156],\n",
       "        [250, 186, 162],\n",
       "        [142, 242, 205]]], dtype=int32)"
      ]
     },
     "execution_count": 59,
     "metadata": {},
     "output_type": "execute_result"
    }
   ],
   "source": [
    "tensor2 = np.random.randint(0,256,(100,100,3))\n",
    "tensor2"
   ]
  },
  {
   "cell_type": "code",
   "execution_count": 62,
   "id": "5cf78e99-e5e0-49d8-8144-fd8d3c82715d",
   "metadata": {},
   "outputs": [
    {
     "name": "stderr",
     "output_type": "stream",
     "text": [
      "ERROR: Could not find a version that satisfies the requirement PIL (from versions: none)\n",
      "ERROR: No matching distribution found for PIL\n"
     ]
    },
    {
     "ename": "ModuleNotFoundError",
     "evalue": "No module named 'PIL'",
     "output_type": "error",
     "traceback": [
      "\u001b[1;31m---------------------------------------------------------------------------\u001b[0m",
      "\u001b[1;31mModuleNotFoundError\u001b[0m                       Traceback (most recent call last)",
      "Cell \u001b[1;32mIn[62], line 2\u001b[0m\n\u001b[0;32m      1\u001b[0m get_ipython()\u001b[38;5;241m.\u001b[39msystem(\u001b[38;5;124m'\u001b[39m\u001b[38;5;124mpip install PIL\u001b[39m\u001b[38;5;124m'\u001b[39m)\n\u001b[1;32m----> 2\u001b[0m \u001b[38;5;28;01mfrom\u001b[39;00m\u001b[38;5;250m \u001b[39m\u001b[38;5;21;01mPIL\u001b[39;00m\u001b[38;5;250m \u001b[39m\u001b[38;5;28;01mimport\u001b[39;00m Image\n",
      "\u001b[1;31mModuleNotFoundError\u001b[0m: No module named 'PIL'"
     ]
    }
   ],
   "source": [
    "!pip install PIL\n",
    "from PIL import Image"
   ]
  },
  {
   "cell_type": "code",
   "execution_count": null,
   "id": "c4377751-1df0-4e11-9dba-4aa717a342ca",
   "metadata": {},
   "outputs": [],
   "source": []
  }
 ],
 "metadata": {
  "kernelspec": {
   "display_name": "Python 3 (ipykernel)",
   "language": "python",
   "name": "python3"
  },
  "language_info": {
   "codemirror_mode": {
    "name": "ipython",
    "version": 3
   },
   "file_extension": ".py",
   "mimetype": "text/x-python",
   "name": "python",
   "nbconvert_exporter": "python",
   "pygments_lexer": "ipython3",
   "version": "3.9.21"
  }
 },
 "nbformat": 4,
 "nbformat_minor": 5
}
