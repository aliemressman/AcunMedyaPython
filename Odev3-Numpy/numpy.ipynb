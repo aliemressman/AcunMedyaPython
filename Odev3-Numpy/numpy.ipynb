{
 "cells": [
  {
   "cell_type": "code",
   "execution_count": null,
   "metadata": {},
   "outputs": [],
   "source": [
    "import numpy as np\n",
    "\n",
    "# 1. np.array()\n",
    "lst = [1, 2, 3, 4, 5]\n",
    "arr = np.array(lst)\n",
    "print(arr)\n",
    "\n",
    "# 2. np.zeros()\n",
    "zeros_array = np.zeros((3, 3))\n",
    "print(zeros_array)\n",
    "\n",
    "# 3. np.ones()\n",
    "ones_array = np.ones((2, 4))\n",
    "print(ones_array)\n",
    "\n",
    "# 4. np.arange()\n",
    "arr = np.arange(10)\n",
    "print(arr)\n",
    "\n",
    "# 5. np.linspace()\n",
    "arr = np.linspace(0, 1, 5)\n",
    "print(arr)\n",
    "\n",
    "# 6. np.random.rand()\n",
    "arr = np.random.rand(2, 3)\n",
    "print(arr)\n",
    "\n",
    "# 7. np.mean()\n",
    "arr = np.array([1, 2, 3, 4, 5])\n",
    "mean_value = np.mean(arr)\n",
    "print(mean_value)\n",
    "\n",
    "# 8. np.median()\n",
    "median_value = np.median(arr)\n",
    "print(median_value)\n",
    "\n",
    "# 9. np.std()\n",
    "std_value = np.std(arr)\n",
    "print(std_value)\n",
    "\n",
    "# 10. np.dot()\n",
    "arr1 = np.array([1, 2, 3])\n",
    "arr2 = np.array([4, 5, 6])\n",
    "dot_product = np.dot(arr1, arr2)\n",
    "print(dot_product)\n"
   ]
  },
  {
   "cell_type": "code",
   "execution_count": null,
   "metadata": {},
   "outputs": [],
   "source": []
  }
 ],
 "metadata": {
  "language_info": {
   "name": "python"
  }
 },
 "nbformat": 4,
 "nbformat_minor": 2
}
